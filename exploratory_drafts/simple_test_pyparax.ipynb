{
 "cells": [
  {
   "cell_type": "code",
   "execution_count": 23,
   "id": "3fb82af8-769d-4661-a16d-e22d0e48dfb5",
   "metadata": {},
   "outputs": [],
   "source": [
    "import pyparax as parax\n",
    "import numpy as np \n",
    "import pandas as pd\n",
    "import scipy as sp\n",
    "from math import pi\n",
    "import matplotlib.pyplot as plt\n",
    "import cmath\n",
    "from scipy.optimize import leastsq"
   ]
  },
  {
   "cell_type": "code",
   "execution_count": 2,
   "id": "3fc636da-b49a-4c38-9117-3600ee0041a3",
   "metadata": {},
   "outputs": [
    {
     "name": "stderr",
     "output_type": "stream",
     "text": [
      "/home/buzz/anaconda3/lib/python3.9/site-packages/numpy/core/_asarray.py:102: VisibleDeprecationWarning: Creating an ndarray from ragged nested sequences (which is a list-or-tuple of lists-or-tuples-or ndarrays with different lengths or shapes) is deprecated. If you meant to do this, you must specify 'dtype=object' when creating the ndarray.\n",
      "  return array(a, dtype, copy=False, order=order)\n"
     ]
    },
    {
     "name": "stdout",
     "output_type": "stream",
     "text": [
      "[['normal', 'normal'], 'pass', ['normal', 'normal']]\n",
      "Propagate for 150 units [mm]\n",
      "Step 0/75\n",
      "Step 1/75\n",
      "Step 2/75\n",
      "Step 3/75\n",
      "Step 4/75\n",
      "Step 5/75\n",
      "Step 6/75\n",
      "Step 7/75\n",
      "Step 8/75\n",
      "Step 9/75\n",
      "Step 10/75\n",
      "Step 11/75\n",
      "Step 12/75\n",
      "Step 13/75\n",
      "Step 14/75\n",
      "Step 15/75\n",
      "Step 16/75\n",
      "Step 17/75\n",
      "Step 18/75\n",
      "Step 19/75\n",
      "Step 20/75\n",
      "Step 21/75\n",
      "Step 22/75\n",
      "Step 23/75\n",
      "Step 24/75\n",
      "Step 25/75\n",
      "Step 26/75\n",
      "Step 27/75\n",
      "Step 28/75\n",
      "Step 29/75\n",
      "Step 30/75\n",
      "Step 31/75\n",
      "Step 32/75\n",
      "Step 33/75\n",
      "Step 34/75\n",
      "Step 35/75\n",
      "Step 36/75\n",
      "Step 37/75\n",
      "Step 38/75\n",
      "Step 39/75\n",
      "Step 40/75\n",
      "Step 41/75\n",
      "Step 42/75\n",
      "Step 43/75\n",
      "Step 44/75\n",
      "Step 45/75\n",
      "Step 46/75\n",
      "Step 47/75\n",
      "Step 48/75\n",
      "Step 49/75\n",
      "Step 50/75\n",
      "Step 51/75\n",
      "Step 52/75\n",
      "Step 53/75\n",
      "Step 54/75\n",
      "Step 55/75\n",
      "Step 56/75\n",
      "Step 57/75\n",
      "Step 58/75\n",
      "Step 59/75\n",
      "Step 60/75\n",
      "Step 61/75\n",
      "Step 62/75\n",
      "Step 63/75\n",
      "Step 64/75\n",
      "Step 65/75\n",
      "Step 66/75\n",
      "Step 67/75\n",
      "Step 68/75\n",
      "Step 69/75\n",
      "Step 70/75\n",
      "Step 71/75\n",
      "Step 72/75\n",
      "Step 73/75\n",
      "Step 74/75\n",
      "Apply mask amplitude\n",
      "Propagate for 150 units [mm]\n",
      "Step 0/75\n",
      "Step 1/75\n",
      "Step 2/75\n",
      "Step 3/75\n",
      "Step 4/75\n",
      "Step 5/75\n",
      "Step 6/75\n",
      "Step 7/75\n",
      "Step 8/75\n",
      "Step 9/75\n",
      "Step 10/75\n",
      "Step 11/75\n",
      "Step 12/75\n",
      "Step 13/75\n",
      "Step 14/75\n",
      "Step 15/75\n",
      "Step 16/75\n",
      "Step 17/75\n",
      "Step 18/75\n",
      "Step 19/75\n",
      "Step 20/75\n",
      "Step 21/75\n",
      "Step 22/75\n",
      "Step 23/75\n",
      "Step 24/75\n",
      "Step 25/75\n",
      "Step 26/75\n",
      "Step 27/75\n",
      "Step 28/75\n",
      "Step 29/75\n",
      "Step 30/75\n",
      "Step 31/75\n",
      "Step 32/75\n",
      "Step 33/75\n",
      "Step 34/75\n",
      "Step 35/75\n",
      "Step 36/75\n",
      "Step 37/75\n",
      "Step 38/75\n",
      "Step 39/75\n",
      "Step 40/75\n",
      "Step 41/75\n",
      "Step 42/75\n",
      "Step 43/75\n",
      "Step 44/75\n",
      "Step 45/75\n",
      "Step 46/75\n",
      "Step 47/75\n",
      "Step 48/75\n",
      "Step 49/75\n",
      "Step 50/75\n",
      "Step 51/75\n",
      "Step 52/75\n",
      "Step 53/75\n",
      "Step 54/75\n",
      "Step 55/75\n",
      "Step 56/75\n",
      "Step 57/75\n",
      "Step 58/75\n",
      "Step 59/75\n",
      "Step 60/75\n",
      "Step 61/75\n",
      "Step 62/75\n",
      "Step 63/75\n",
      "Step 64/75\n",
      "Step 65/75\n",
      "Step 66/75\n",
      "Step 67/75\n",
      "Step 68/75\n",
      "Step 69/75\n",
      "Step 70/75\n",
      "Step 71/75\n",
      "Step 72/75\n",
      "Step 73/75\n",
      "Step 74/75\n"
     ]
    }
   ],
   "source": [
    "# 635 nm propagation\n",
    "parax.numeric_parameters.N_x = 600\n",
    "parax.numeric_parameters.N_y = 600\n",
    "parax.numeric_parameters.dz = 2\n",
    "f0 = parax.function_generator.standard_initial_conditions.generate_gauss_2d(0,0,.8,.8)\n",
    "M = parax.function_generator.optical_elements.amplitude_mask_circular(.5, smooth = 4, dim = 2)\n",
    "system = [150, ['ma', M, 0, 0], 150]\n",
    "f = parax.experimental_simulator.experimental_simulator_2d.propagate(f0, system, output_full = True, forward = True, print_output=False)"
   ]
  },
  {
   "cell_type": "code",
   "execution_count": 3,
   "id": "b5b44e0b-f851-4cd9-963f-b631815d6fa7",
   "metadata": {},
   "outputs": [
    {
     "data": {
      "text/plain": [
       "<matplotlib.image.AxesImage at 0x7f14a1a66580>"
      ]
     },
     "execution_count": 3,
     "metadata": {},
     "output_type": "execute_result"
    },
    {
     "data": {
      "image/png": "[encoded data removed]",
      "text/plain": [
       "<Figure size 432x288 with 1 Axes>"
      ]
     },
     "metadata": {
      "needs_background": "light"
     },
     "output_type": "display_data"
    }
   ],
   "source": [
    "plt.imshow(np.abs(f[-1])**2)"
   ]
  },
  {
   "cell_type": "code",
   "execution_count": 48,
   "id": "6d026503-fe24-42a2-aa6b-42c74027aff2",
   "metadata": {},
   "outputs": [],
   "source": [
    "lambda_=1.3e-10\n",
    "window_extent = 3e-4\n",
    "grid_dim = 64"
   ]
  },
  {
   "cell_type": "code",
   "execution_count": 53,
   "id": "a68dcd63-e8a1-417c-8319-5a0fe85425f4",
   "metadata": {},
   "outputs": [
    {
     "name": "stdout",
     "output_type": "stream",
     "text": [
      "[['normal', 'normal'], 'pass', ['normal', 'normal']]\n",
      "Propagate for 500 units [mm]\n",
      "Step 0/1\n",
      "Apply mask amplitude\n",
      "Propagate for 20000 units [mm]\n",
      "Step 0/40\n",
      "Step 1/40\n",
      "Step 2/40\n",
      "Step 3/40\n",
      "Step 4/40\n",
      "Step 5/40\n",
      "Step 6/40\n",
      "Step 7/40\n",
      "Step 8/40\n",
      "Step 9/40\n",
      "Step 10/40\n",
      "Step 11/40\n",
      "Step 12/40\n",
      "Step 13/40\n",
      "Step 14/40\n",
      "Step 15/40\n",
      "Step 16/40\n",
      "Step 17/40\n",
      "Step 18/40\n",
      "Step 19/40\n",
      "Step 20/40\n",
      "Step 21/40\n",
      "Step 22/40\n",
      "Step 23/40\n",
      "Step 24/40\n",
      "Step 25/40\n",
      "Step 26/40\n",
      "Step 27/40\n",
      "Step 28/40\n",
      "Step 29/40\n",
      "Step 30/40\n",
      "Step 31/40\n",
      "Step 32/40\n",
      "Step 33/40\n",
      "Step 34/40\n",
      "Step 35/40\n",
      "Step 36/40\n",
      "Step 37/40\n",
      "Step 38/40\n",
      "Step 39/40\n"
     ]
    }
   ],
   "source": [
    "# x-ray propagation\n",
    "parax.numeric_parameters.wavelength=lambda_*1000\n",
    "parax.numeric_parameters.dx = 1000*window_extent/grid_dim\n",
    "parax.numeric_parameters.dy = 1000*window_extent/grid_dim\n",
    "parax.numeric_parameters.dz = 500\n",
    "parax.numeric_parameters.N_x = grid_dim\n",
    "parax.numeric_parameters.N_y = grid_dim\n",
    "parax.numeric_parameters.N_z = 41\n",
    "f0 = parax.function_generator.standard_initial_conditions.generate_gauss_2d(0,0,window_extent*500,window_extent*500)\n",
    "M = parax.function_generator.optical_elements.amplitude_mask_circular(.1, smooth = 4, dim = 2)\n",
    "system = [['ma', M, 0, 0], 20000]\n",
    "f = parax.experimental_simulator.experimental_simulator_2d.propagate(f0, system, output_full = True, forward = True, print_output=False)"
   ]
  },
  {
   "cell_type": "code",
   "execution_count": 64,
   "id": "adbfc1d0-4376-487b-8aea-639cc87a5876",
   "metadata": {},
   "outputs": [
    {
     "data": {
      "text/plain": [
       "<matplotlib.image.AxesImage at 0x7f149aae9520>"
      ]
     },
     "execution_count": 64,
     "metadata": {},
     "output_type": "execute_result"
    },
    {
     "data": {
      "image/png": "[encoded data removed]",
      "text/plain": [
       "<Figure size 432x288 with 1 Axes>"
      ]
     },
     "metadata": {
      "needs_background": "light"
     },
     "output_type": "display_data"
    }
   ],
   "source": [
    "plt.imshow((np.abs(f[41])**2))"
   ]
  },
  {
   "cell_type": "code",
   "execution_count": 56,
   "id": "35a9e9ab-a96f-45d9-8032-48b79663b878",
   "metadata": {},
   "outputs": [
    {
     "data": {
      "text/plain": [
       "2.6e-05"
      ]
     },
     "execution_count": 56,
     "metadata": {},
     "output_type": "execute_result"
    }
   ],
   "source": [
    "1.3e-7*20000/.1/1000"
   ]
  },
  {
   "cell_type": "code",
   "execution_count": 75,
   "id": "2c804773-a750-4f90-84cb-18a57880553b",
   "metadata": {},
   "outputs": [
    {
     "data": {
      "text/plain": [
       "0.0003"
      ]
     },
     "execution_count": 75,
     "metadata": {},
     "output_type": "execute_result"
    }
   ],
   "source": [
    "window_extent"
   ]
  },
  {
   "cell_type": "code",
   "execution_count": 67,
   "id": "51bc7a80-1992-4713-a511-093c5d040fe7",
   "metadata": {},
   "outputs": [
    {
     "name": "stdout",
     "output_type": "stream",
     "text": [
      "[['normal', 'normal'], 'pass', ['normal', 'normal']]\n",
      "Propagate for 500 units [mm]\n",
      "Step 0/1\n",
      "Apply mask amplitude\n",
      "Propagate for 20000 units [mm]\n",
      "Step 0/40\n",
      "Step 1/40\n",
      "Step 2/40\n",
      "Step 3/40\n",
      "Step 4/40\n",
      "Step 5/40\n",
      "Step 6/40\n",
      "Step 7/40\n",
      "Step 8/40\n",
      "Step 9/40\n",
      "Step 10/40\n",
      "Step 11/40\n",
      "Step 12/40\n",
      "Step 13/40\n",
      "Step 14/40\n",
      "Step 15/40\n",
      "Step 16/40\n",
      "Step 17/40\n",
      "Step 18/40\n",
      "Step 19/40\n",
      "Step 20/40\n",
      "Step 21/40\n",
      "Step 22/40\n",
      "Step 23/40\n",
      "Step 24/40\n",
      "Step 25/40\n",
      "Step 26/40\n",
      "Step 27/40\n",
      "Step 28/40\n",
      "Step 29/40\n",
      "Step 30/40\n",
      "Step 31/40\n",
      "Step 32/40\n",
      "Step 33/40\n",
      "Step 34/40\n",
      "Step 35/40\n",
      "Step 36/40\n",
      "Step 37/40\n",
      "Step 38/40\n",
      "Step 39/40\n"
     ]
    }
   ],
   "source": [
    "# x-ray propagation\n",
    "parax.numeric_parameters.wavelength=lambda_*1000\n",
    "parax.numeric_parameters.dx = 1000*window_extent/grid_dim\n",
    "parax.numeric_parameters.dy = 1000*window_extent/grid_dim\n",
    "parax.numeric_parameters.dz = 500\n",
    "parax.numeric_parameters.N_x = 2*grid_dim\n",
    "parax.numeric_parameters.N_y = 2*grid_dim\n",
    "parax.numeric_parameters.N_z = 41\n",
    "#f0 = np.zeros((2*grid_dim,2*grid_dim))\n",
    "f0 = parax.function_generator.standard_initial_conditions.generate_gauss_2d(0,0,window_extent*500,window_extent*500)\n",
    "#f0[grid_dim//2:2*grid_dim-grid_dim//2,grid_dim//2:2*grid_dim-grid_dim//2] = f0_center\n",
    "M = parax.function_generator.optical_elements.amplitude_mask_circular(.1, smooth = 4, dim = 2)\n",
    "system = [['ma', M, 0, 0], 20000]\n",
    "f = parax.experimental_simulator.experimental_simulator_2d.propagate(f0, system, output_full = True, forward = True, print_output=False)"
   ]
  },
  {
   "cell_type": "code",
   "execution_count": 72,
   "id": "3c39a757-506a-422a-8ed7-b8f12b5ede34",
   "metadata": {},
   "outputs": [
    {
     "data": {
      "text/plain": [
       "<matplotlib.image.AxesImage at 0x7f1498cafac0>"
      ]
     },
     "execution_count": 72,
     "metadata": {},
     "output_type": "execute_result"
    },
    {
     "data": {
      "image/png": "[encoded data removed]",
      "text/plain": [
       "<Figure size 432x288 with 1 Axes>"
      ]
     },
     "metadata": {
      "needs_background": "light"
     },
     "output_type": "display_data"
    }
   ],
   "source": [
    "plt.imshow((np.abs(f[-1][grid_dim//2:2*grid_dim-grid_dim//2,grid_dim//2:2*grid_dim-grid_dim//2])**2))"
   ]
  }
 ],
 "metadata": {
  "kernelspec": {
   "display_name": "Python 3 (ipykernel)",
   "language": "python",
   "name": "python3"
  },
  "language_info": {
   "codemirror_mode": {
    "name": "ipython",
    "version": 3
   },
   "file_extension": ".py",
   "mimetype": "text/x-python",
   "name": "python",
   "nbconvert_exporter": "python",
   "pygments_lexer": "ipython3",
   "version": "3.9.7"
  }
 },
 "nbformat": 4,
 "nbformat_minor": 5
}
